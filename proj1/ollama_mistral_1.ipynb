{
 "cells": [
  {
   "cell_type": "markdown",
   "id": "4ba74738",
   "metadata": {},
   "source": [
    "# Ollama Mistral Chat Interface\n",
    "\n",
    "This notebook demonstrates how to interact with a locally running Ollama Mistral model using Python.\n",
    "\n",
    "Requirements:\n",
    "1. Ollama must be installed and running locally\n",
    "2. Mistral model must be pulled (`ollama pull mistral`)\n",
    "3. Python requests library (`pip install requests`)"
   ]
  },
  {
   "cell_type": "code",
   "execution_count": null,
   "id": "b20f5b13",
   "metadata": {},
   "outputs": [],
   "source": [
    "import requests\n",
    "import json\n",
    "\n",
    "def query_mistral(prompt):\n",
    "    \"\"\"\n",
    "    Send a prompt to locally running Ollama Mistral model and get the response\n",
    "    \"\"\"\n",
    "    url = \"http://localhost:11434/api/generate\"\n",
    "    \n",
    "    # Prepare the request payload\n",
    "    data = {\n",
    "        \"model\": \"mistral\",\n",
    "        \"prompt\": prompt,\n",
    "        \"stream\": False  # Get complete response rather than streaming\n",
    "    }\n",
    "    \n",
    "    try:\n",
    "        response = requests.post(url, json=data)\n",
    "        response.raise_for_status()\n",
    "        \n",
    "        result = response.json()\n",
    "        return result.get('response', 'No response received')\n",
    "        \n",
    "    except requests.exceptions.ConnectionError:\n",
    "        return \"Error: Could not connect to Ollama. Make sure Ollama is running and Mistral model is installed.\"\n",
    "    except requests.exceptions.RequestException as e:\n",
    "        return f\"Error occurred while communicating with Ollama: {e}\"\n",
    "    except json.JSONDecodeError:\n",
    "        return \"Error: Received invalid response from Ollama\""
   ]
  },
  {
   "cell_type": "code",
   "execution_count": null,
   "id": "664e6bcd",
   "metadata": {},
   "outputs": [],
   "source": [
    "# Test the connection and get a response\n",
    "prompt = input(\"Enter your question: \")\n",
    "response = query_mistral(prompt)\n",
    "print(\"\\nMistral's response:\")\n",
    "print(response)"
   ]
  },
  {
   "cell_type": "code",
   "execution_count": null,
   "id": "8ac34582",
   "metadata": {},
   "outputs": [],
   "source": []
  }
 ],
 "metadata": {
  "kernelspec": {
   "display_name": "Python 3 (ipykernel)",
   "language": "python",
   "name": "python3"
  }
 },
 "nbformat": 4,
 "nbformat_minor": 5
}
