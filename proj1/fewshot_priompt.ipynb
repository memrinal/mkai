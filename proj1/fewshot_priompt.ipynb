{
 "cells": [
  {
   "cell_type": "code",
   "execution_count": 2,
   "id": "3fd0a8de",
   "metadata": {},
   "outputs": [
    {
     "name": "stdout",
     "output_type": "stream",
     "text": [
      "📝 Sentiment Classifier using LangChain + Mistral\n",
      "Type a review to classify its sentiment. Type 'exit' to quit.\n",
      "\n",
      "🤖 Sentiment Prediction:  Based on the grammatical errors and lack of context, it's difficult to definitively classify the sentiment of \"fiood i s very good\" as either positive or negative. However, assuming that the writer intended a positive sentiment, the sentiment would be classified as Positive. \n",
      "\n",
      "🤖 Sentiment Prediction:  Negative (regarding the quality of food) \n",
      "\n",
      "🤖 Sentiment Prediction:  Negative (regarding the food taste) \n",
      "\n",
      "🤖 Sentiment Prediction:  Positive (specifically regarding the biryani) \n",
      "\n",
      "🤖 Sentiment Prediction:  It is difficult to determine the sentiment of the review \"bye\" as it does not contain any explicit positive or negative sentiments. However, in a customer service context, it could potentially indicate dissatisfaction if used in response to a service interaction. In other contexts, such as farewell messages, it would be neutral. \n",
      "\n",
      "👋 Goodbye!\n"
     ]
    }
   ],
   "source": [
    "from langchain_community.llms import Ollama\n",
    "from langchain_core.prompts import PromptTemplate, FewShotPromptTemplate\n",
    "\n",
    "# Define the example format\n",
    "example_prompt = PromptTemplate.from_template(\"Review: {review}\\nSentiment: {sentiment}\")\n",
    "\n",
    "# Few-shot examples\n",
    "examples = [\n",
    "    {\"review\": \"Terrible customer service.\", \"sentiment\": \"Negative\"},\n",
    "    {\"review\": \"Amazing experience from start to finish.\", \"sentiment\": \"Positive\"},\n",
    "    {\"review\": \"The product was okay, but delivery was late.\", \"sentiment\": \"Neutral\"},\n",
    "]\n",
    "\n",
    "# Few-shot prompt template\n",
    "few_shot_prompt = FewShotPromptTemplate(\n",
    "    examples=examples,\n",
    "    example_prompt=example_prompt,\n",
    "    prefix=\"Classify the sentiment of the following review.\",\n",
    "    suffix=\"Review: {input}\\nSentiment:\",\n",
    "    input_variables=[\"input\"]\n",
    ")\n",
    "\n",
    "# Set up the local Mistral model via Ollama\n",
    "llm = Ollama(model=\"mistral\")\n",
    "\n",
    "# Interactive loop\n",
    "print(\"📝 Sentiment Classifier using LangChain + Mistral\")\n",
    "print(\"Type a review to classify its sentiment. Type 'exit' to quit.\\n\")\n",
    "\n",
    "while True:\n",
    "    user_input = input(\"Your review: \").strip()\n",
    "    if user_input.lower() in [\"exit\", \"quit\"]:\n",
    "        print(\"👋 Goodbye!\")\n",
    "        break\n",
    "    if not user_input:\n",
    "        print(\"⚠️ Please enter a review.\")\n",
    "        continue\n",
    "\n",
    "    # Format the prompt with user input\n",
    "    prompt = few_shot_prompt.format(input=user_input)\n",
    "\n",
    "    # Get prediction\n",
    "    response = llm.invoke(prompt)\n",
    "    print(\"🤖 Sentiment Prediction:\", response, \"\\n\")\n"
   ]
  },
  {
   "cell_type": "code",
   "execution_count": null,
   "id": "c4c21caf",
   "metadata": {},
   "outputs": [
    {
     "name": "stdout",
     "output_type": "stream",
     "text": [
      "🤖 Mistral:  Electric cars offer several significant benefits compared to traditional internal combustion engine vehicles:\n",
      "\n",
      "1. Environmental Impact: Electric cars produce zero tailpipe emissions, which helps reduce air pollution and greenhouse gas emissions.\n",
      "\n",
      "2. Energy Efficiency: Electric motors convert energy more efficiently than internal combustion engines, resulting in fewer losses as heat and greater overall efficiency.\n",
      "\n",
      "3. Cost Savings: While the upfront cost of electric cars can be higher, they are cheaper to run over time due to lower fuel costs (electricity is typically cheaper than gasoline or diesel) and reduced maintenance needs.\n",
      "\n",
      "4. Reduced Dependence on Fossil Fuels: Electric cars can be charged using renewable energy sources such as solar or wind power, reducing our dependence on fossil fuels.\n",
      "\n",
      "5. Quiet Operation: Electric cars are much quieter than traditional cars, which can lead to less noise pollution in urban areas.\n",
      "\n",
      "6. Improved Performance: Electric motors provide instant torque, resulting in quick acceleration and smooth driving experiences.\n",
      "\n",
      "7. Technological Innovation: The rise of electric vehicles has led to significant advancements in battery technology, charging infrastructure, and smart grid management systems.\n",
      "\n",
      "8. Contribution to Grid Stability: Electric cars can serve as mobile energy storage units when equipped with bi-directional chargers, helping to balance the electrical grid during peak demand periods.\n"
     ]
    }
   ],
   "source": []
  }
 ],
 "metadata": {
  "kernelspec": {
   "display_name": "Python 3 (ipykernel)",
   "language": "python",
   "name": "python3"
  },
  "language_info": {
   "codemirror_mode": {
    "name": "ipython",
    "version": 3
   },
   "file_extension": ".py",
   "mimetype": "text/x-python",
   "name": "python",
   "nbconvert_exporter": "python",
   "pygments_lexer": "ipython3",
   "version": "3.12.3"
  }
 },
 "nbformat": 4,
 "nbformat_minor": 5
}
