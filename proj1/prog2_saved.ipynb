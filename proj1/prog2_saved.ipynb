{
 "cells": [
  {
   "cell_type": "code",
   "execution_count": null,
   "id": "f82d9a63",
   "metadata": {},
   "outputs": [],
   "source": [
    "# Load this notebook file into a pandas DataFrame\n",
    "import json\n",
    "import pandas as pd\n",
    "from pathlib import Path\n",
    "\n",
    "# Determine notebook path. In notebook execution __file__ is not defined, so use the notebook filename directly\n",
    "nb_path = Path('prog2.ipynb')\n",
    "\n",
    "# Read notebook JSON\n",
    "with open(nb_path, 'r', encoding='utf-8') as f:\n",
    "    nb = json.load(f)\n",
    "\n",
    "# Extract cells into a list of dicts: index, cell_type, source (joined)\n",
    "rows = []\n",
    "for idx, cell in enumerate(nb.get('cells', []), start=1):\n",
    "    source = cell.get('source', [])\n",
    "    # If source is a list, join into a single string; otherwise keep as-is\n",
    "    if isinstance(source, list):\n",
    "        source_text = ''.join(source)\n",
    "    else:\n",
    "        source_text = str(source)\n",
    "    rows.append({'cell_index': idx, 'cell_type': cell.get('cell_type'), 'source': source_text})\n",
    "\n",
    "# Create DataFrame\n",
    "df = pd.DataFrame(rows)\n",
    "\n",
    "# Print DataFrame and show types\n",
    "print(df)\n",
    "print('\\nDataFrame dtypes:\\n', df.dtypes)\n",
    "\n",
    "df\n"
   ]
  },
  {
   "cell_type": "code",
   "execution_count": null,
   "id": "d7378dd9",
   "metadata": {},
   "outputs": [],
   "source": [
    "print (\"Hello World\")"
   ]
  }
 ],
 "metadata": {
  "language_info": {
   "name": "python"
  }
 },
 "nbformat": 4,
 "nbformat_minor": 5
}
