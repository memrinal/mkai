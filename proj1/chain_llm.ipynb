{
 "cells": [
  {
   "cell_type": "code",
   "execution_count": null,
   "id": "b2d7d351",
   "metadata": {},
   "outputs": [
    {
     "name": "stdout",
     "output_type": "stream",
     "text": [
      "🧠 Tweet Generator with Sentiment Analysis (LangChain + Mistral)\n",
      "Type a paragraph to summarize, classify, and tweet. Type 'exit' to quit.\n",
      "\n",
      "📝 Summary:  The text is a review of a blender that the author finds impressive. They use it daily for protein shakes and commend its ability to quickly pulverize frozen fruit and ice without leaving chunks. Cleaning is also easy, making it a valuable addition. Overall, they believe it's worth every penny and strongly recommend it due to its significant impact on their breakfast routine.\n",
      "📊 Sentiment:  The sentiment of this summary is overwhelmingly positive. The author finds the blender impressive, commends its functionality, ease of cleaning, and value for money, and strongly recommends it, indicating high satisfaction with the product.\n",
      "🐦 Tweet:  \"Revolutionizing my mornings ☀️ Just tried the blender that pulverizes frozen fruit & ice like a pro, leaving no chunks in my protein shakes 🍌🥦🚀 It's easy to clean and a game-changer for breakfast! Absolutely worth every penny! #BlenderLove #ProteinShakeGoals\" \n",
      "\n",
      "📝 Summary:  The text describes a negative experience with a purchased ergonomic chair. Despite receiving it damaged, the individual assembled it due to needing a new one urgently. However, the chair lacks lumbar support and the seat cushion deflated within two weeks, causing more pain than the old chair. Additionally, the armrests are described as flimsy. The author advises others to save their money and purchase a different chair, implying that this particular one is of poor quality.\n",
      "📊 Sentiment:  The sentiment of the summary can be classified as negative. The text describes a dissatisfying experience with the ergonomic chair, implying that it is of poor quality due to issues like damage upon arrival, lack of lumbar support, deflated seat cushion, and flimsy armrests, which have caused more pain rather than alleviating it. The author's advice to save money and purchase a different chair further emphasizes their dissatisfaction with the product.\n",
      "🐦 Tweet:  \"Unfortunately, my new ergonomic chair arrived damaged & despite assembling it urgently, it's proven to be a painful investment 🙁 Lacks lumbar support, deflated seat cushion within 2 weeks, flimsy armrests. A reminder to save your money & consider other options for a quality seating solution. #ergonomicfail\" \n",
      "\n"
     ]
    }
   ],
   "source": [
    "from langchain_core.prompts import PromptTemplate\n",
    "from langchain_core.output_parsers import StrOutputParser\n",
    "from langchain_community.llms import Ollama\n",
    "\n",
    "# Set up your local LLM\n",
    "llm = Ollama(model=\"mistral\")\n",
    "\n",
    "# Define prompt templates\n",
    "summary_prompt = PromptTemplate.from_template(\"Summarize this text:\\n\\n{text}\")\n",
    "sentiment_prompt = PromptTemplate.from_template(\"Classify the sentiment of this summary:\\n\\n{summary}\")\n",
    "tweet_prompt = PromptTemplate.from_template(\"Write a tweet based on this summary:\\n\\n{summary}\")\n",
    "\n",
    "# Create runnable chains\n",
    "summary_chain = summary_prompt | llm | StrOutputParser()\n",
    "sentiment_chain = sentiment_prompt | llm | StrOutputParser()\n",
    "tweet_chain = tweet_prompt | llm | StrOutputParser()\n",
    "\n",
    "# Compose full chain\n",
    "chain = (\n",
    "    summary_chain\n",
    "    | (lambda summary: {\"summary\": summary})\n",
    "    | {\n",
    "        \"summary\": lambda x: x[\"summary\"],\n",
    "        \"sentiment\": sentiment_chain,\n",
    "        \"tweet\": tweet_chain\n",
    "    }\n",
    ")\n",
    "\n",
    "# Interactive loop\n",
    "print(\"🧠 Tweet Generator with Sentiment Analysis (LangChain + Mistral)\")\n",
    "print(\"Type a paragraph to summarize, classify, and tweet. Type 'exit' to quit.\\n\")\n",
    "\n",
    "while True:\n",
    "    user_input = input(\"📝 Your input: \").strip()\n",
    "    if user_input.lower() in [\"exit\", \"quit\"]:\n",
    "        print(\"👋 Goodbye!\")\n",
    "        break\n",
    "    if not user_input:\n",
    "        print(\"⚠️ Please enter some text.\")\n",
    "        continue\n",
    "\n",
    "    result = chain.invoke({\"text\": user_input})\n",
    "    print(\"📝 Summary:\", result[\"summary\"])\n",
    "    print(\"📊 Sentiment:\", result[\"sentiment\"])\n",
    "    print(\"🐦 Tweet:\", result[\"tweet\"], \"\\n\")"
   ]
  }
 ],
 "metadata": {
  "kernelspec": {
   "display_name": "Python 3 (ipykernel)",
   "language": "python",
   "name": "python3"
  },
  "language_info": {
   "codemirror_mode": {
    "name": "ipython",
    "version": 3
   },
   "file_extension": ".py",
   "mimetype": "text/x-python",
   "name": "python",
   "nbconvert_exporter": "python",
   "pygments_lexer": "ipython3",
   "version": "3.12.3"
  }
 },
 "nbformat": 4,
 "nbformat_minor": 5
}
