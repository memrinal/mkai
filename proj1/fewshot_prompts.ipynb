{
 "cells": [
  {
   "cell_type": "code",
   "execution_count": null,
   "id": "d105b1b4",
   "metadata": {},
   "outputs": [],
   "source": [
    "examples = [\n",
    "  {\n",
    "    \"question\": \"How many DataCamp courses has Jack completed?\",\n",
    "    \"answer\": \"36\"\n",
    "  },\n",
    "  {\n",
    "    \"question\": \"How much XP does Jack have on DataCamp?\",\n",
    "    \"answer\": \"284,320XP\"\n",
    "  },\n",
    "  {\n",
    "    \"question\": \"What technology does Jack learn about most on DataCamp?\",\n",
    "    \"answer\": \"Python\"\n",
    "  }\n",
    "]"
   ]
  }
 ],
 "metadata": {
  "language_info": {
   "name": "python"
  }
 },
 "nbformat": 4,
 "nbformat_minor": 5
}
